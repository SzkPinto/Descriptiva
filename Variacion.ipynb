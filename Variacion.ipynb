{
  "nbformat": 4,
  "nbformat_minor": 0,
  "metadata": {
    "colab": {
      "name": "Variacion.ipynb",
      "provenance": [],
      "authorship_tag": "ABX9TyMm7rw4ADxxZT2T+G9Bhukj",
      "include_colab_link": true
    },
    "kernelspec": {
      "name": "python3",
      "display_name": "Python 3"
    },
    "language_info": {
      "name": "python"
    }
  },
  "cells": [
    {
      "cell_type": "markdown",
      "metadata": {
        "id": "view-in-github",
        "colab_type": "text"
      },
      "source": [
        "<a href=\"https://colab.research.google.com/github/SzkPinto/Descriptiva/blob/main/Variacion.ipynb\" target=\"_parent\"><img src=\"https://colab.research.google.com/assets/colab-badge.svg\" alt=\"Open In Colab\"/></a>"
      ]
    },
    {
      "cell_type": "code",
      "metadata": {
        "id": "mXE_qAGnMB8Q"
      },
      "source": [
        ""
      ],
      "execution_count": null,
      "outputs": []
    },
    {
      "cell_type": "markdown",
      "metadata": {
        "id": "orOZblV6MEIt"
      },
      "source": [
        "## Compartir Notebooks a través de GitHub\n",
        "\n",
        "[GitHub](github.com) es una plataforma de desarrollo colaborativo para alojar proyectos utilizando el sistema de control de versiones Git. Se utiliza principalmente para la creación de código fuente de programas de ordenador. \n",
        "\n",
        "En nuestro caso lo usaremos como un repositorio que nos permitirá compartir nuestras Notebooks con código de R y para crear una página web personal.\n",
        "Mucio Osorio Sanchez19:38\n",
        "[texto del vínculo](https://)Suponga que requiere compartir esta Notebook a través de GitHub.\n",
        "\n",
        "1. Iniciar sesión en GitHub\n",
        "\n",
        "![](https://github.com/mucioosorio/Diplomado-con-R.-Mayo-de-2021/blob/main/git1.JPG?raw=true)\n",
        "\n",
        "Mucio Osorio Sanchez19:40\n",
        "3. Escribir el nombre del repositorio y seleccionar si el repositorio será publico o privado (opcionalmente agregar el README file). Luego oprimir el botón de crear repositorio.\n",
        "\n",
        "![](https://github.com/mucioosorio/Diplomado-con-R.-Mayo-de-2021/blob/main/git3.JPG?raw=true)\n"
      ]
    },
    {
      "cell_type": "markdown",
      "metadata": {
        "id": "WTraxTDaM6Cg"
      },
      "source": [
        "Ejemplo de un repositorio público:\n",
        "\n",
        "https://github.com/demar01/penguinsbox"
      ]
    },
    {
      "cell_type": "markdown",
      "metadata": {
        "id": "QQAPCwktNdzl"
      },
      "source": [
        "5. Compartir la Notebook\n",
        "\n",
        "Seleccionr en el menú principal la opción **Archivo** y luego **Guardar una copia en GitHub**\n",
        "\n",
        "![](https://github.com/mucioosorio/Diplomado-con-R.-Mayo-de-2021/blob/main/git5.JPG?raw=true)"
      ]
    }
  ]
}